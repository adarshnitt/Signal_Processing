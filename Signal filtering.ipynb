{
  "cells": [
    {
      "cell_type": "markdown",
      "metadata": {
        "id": "view-in-github",
        "colab_type": "text"
      },
      "source": [
        "<a href=\"https://colab.research.google.com/github/adarshnitt/Signal_Processing/blob/main/Signal%20filtering.ipynb\" target=\"_parent\"><img src=\"https://colab.research.google.com/assets/colab-badge.svg\" alt=\"Open In Colab\"/></a>"
      ]
    },
    {
      "cell_type": "markdown",
      "source": [
        "Steps to download data from kaggle in google colab\n",
        "1- install kaggle <br>\n",
        "2- make a dirrctory whery u will store your kaggle_API, it will be \"~/.kaggle\" <br>\n",
        "2.1 kaggle api will be unde: Kaggle=> Account=> Scroll down and u will find option for generate ne token. => generate new_token=> save file in dowlload section=> upload same api file in colab using drive <br>\n",
        "3- change path to \"~/.kaggle/\" <br>\n",
        "4- make it private acces by changing mode <br>\n",
        "5-  install dataset by directly copying using\"copying API command to clipboard,<br>\n",
        "6- it will look like <b>\"kaggle competitions download -c liverpool-ion-switching\"</b>. It is present in data section of competion.(Note: accept competion t/c beforeimporting api)"
      ],
      "metadata": {
        "id": "8GWrc6v1Gff5"
      }
    },
    {
      "cell_type": "code",
      "source": [
        "! pip install kaggle"
      ],
      "metadata": {
        "id": "-7NREeGcGhyy"
      },
      "execution_count": null,
      "outputs": []
    },
    {
      "cell_type": "code",
      "source": [
        "! mkdir ~/.kaggle"
      ],
      "metadata": {
        "id": "iXnmlThqCaOx"
      },
      "execution_count": 2,
      "outputs": []
    },
    {
      "cell_type": "code",
      "source": [
        "! cp kaggle.json ~/.kaggle/"
      ],
      "metadata": {
        "id": "89uUzqo1CaRN"
      },
      "execution_count": 3,
      "outputs": []
    },
    {
      "cell_type": "code",
      "source": [
        "! chmod 600 ~/.kaggle/kaggle.json"
      ],
      "metadata": {
        "id": "2mJcg_5bCaSY"
      },
      "execution_count": 4,
      "outputs": []
    },
    {
      "cell_type": "code",
      "source": [
        "!pip install --upgrade --force-reinstall --no-deps kaggle"
      ],
      "metadata": {
        "colab": {
          "base_uri": "https://localhost:8080/"
        },
        "id": "8Hem5TUVD5M9",
        "outputId": "a8e3eaea-bc51-4fc2-c576-d65f43a8b3ae"
      },
      "execution_count": 7,
      "outputs": [
        {
          "output_type": "stream",
          "name": "stdout",
          "text": [
            "Collecting kaggle\n",
            "  Downloading kaggle-1.5.12.tar.gz (58 kB)\n",
            "\u001b[?25l\r\u001b[K     |█████▋                          | 10 kB 27.2 MB/s eta 0:00:01\r\u001b[K     |███████████▏                    | 20 kB 34.1 MB/s eta 0:00:01\r\u001b[K     |████████████████▊               | 30 kB 28.3 MB/s eta 0:00:01\r\u001b[K     |██████████████████████▎         | 40 kB 30.3 MB/s eta 0:00:01\r\u001b[K     |███████████████████████████▉    | 51 kB 28.8 MB/s eta 0:00:01\r\u001b[K     |████████████████████████████████| 58 kB 4.5 MB/s \n",
            "\u001b[?25hBuilding wheels for collected packages: kaggle\n",
            "  Building wheel for kaggle (setup.py) ... \u001b[?25l\u001b[?25hdone\n",
            "  Created wheel for kaggle: filename=kaggle-1.5.12-py3-none-any.whl size=73051 sha256=4dcff4a588e451b91674c2e66c245e575f77763fbf760c591d484d3797c585fb\n",
            "  Stored in directory: /root/.cache/pip/wheels/62/d6/58/5853130f941e75b2177d281eb7e44b4a98ed46dd155f556dc5\n",
            "Successfully built kaggle\n",
            "Installing collected packages: kaggle\n",
            "  Attempting uninstall: kaggle\n",
            "    Found existing installation: kaggle 1.5.12\n",
            "    Uninstalling kaggle-1.5.12:\n",
            "      Successfully uninstalled kaggle-1.5.12\n",
            "Successfully installed kaggle-1.5.12\n"
          ]
        }
      ]
    },
    {
      "cell_type": "code",
      "source": [
        "! kaggle competitions download -c liverpool-ion-switching "
      ],
      "metadata": {
        "colab": {
          "base_uri": "https://localhost:8080/"
        },
        "id": "MBhVv3k9CaUB",
        "outputId": "f74f8f7f-93d9-4e01-865b-117c8088fb51"
      },
      "execution_count": 20,
      "outputs": [
        {
          "output_type": "stream",
          "name": "stdout",
          "text": [
            "liverpool-ion-switching.zip: Skipping, found more recently modified local copy (use --force to force download)\n"
          ]
        }
      ]
    },
    {
      "cell_type": "code",
      "source": [
        ""
      ],
      "metadata": {
        "id": "04HEzKCfCaXW"
      },
      "execution_count": null,
      "outputs": []
    },
    {
      "cell_type": "code",
      "source": [
        ""
      ],
      "metadata": {
        "id": "hhaqZtXBCaZG"
      },
      "execution_count": null,
      "outputs": []
    },
    {
      "cell_type": "code",
      "source": [
        ""
      ],
      "metadata": {
        "id": "A3sfJELJCace"
      },
      "execution_count": null,
      "outputs": []
    },
    {
      "cell_type": "code",
      "execution_count": null,
      "metadata": {
        "id": "hDhljQ26GFNM"
      },
      "outputs": [],
      "source": [
        ""
      ]
    }
  ],
  "metadata": {
    "colab": {
      "name": "Tensorflow basics.ipynb",
      "provenance": [],
      "authorship_tag": "ABX9TyMvjIIFnKcCv6/og6V1yoKt",
      "include_colab_link": true
    },
    "kernelspec": {
      "display_name": "Python 3",
      "name": "python3"
    },
    "language_info": {
      "name": "python"
    }
  },
  "nbformat": 4,
  "nbformat_minor": 0
}